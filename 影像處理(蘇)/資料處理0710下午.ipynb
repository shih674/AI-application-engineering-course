{
 "cells": [
  {
   "cell_type": "code",
   "execution_count": 1,
   "metadata": {},
   "outputs": [],
   "source": [
    "import cv2\n",
    "import numpy as np"
   ]
  },
  {
   "cell_type": "code",
   "execution_count": 20,
   "metadata": {},
   "outputs": [],
   "source": [
    "# 建立空畫布\n",
    "image0 = np.full((600,800,3),(200,0,220),np.uint8)\n",
    "cv2.imshow('Image: test', image0)\n",
    "cv2.waitKey(0)\n",
    "cv2.destroyAllWindows()"
   ]
  },
  {
   "cell_type": "code",
   "execution_count": 3,
   "metadata": {},
   "outputs": [],
   "source": [
    "# 加入直線\n",
    "cv2.line(image0, (1,10), (100,10), (255,255,255), 2)\n",
    "cv2.imshow('Image: add line', image0)\n",
    "cv2.waitKey(0)\n",
    "cv2.destroyAllWindows()"
   ]
  },
  {
   "cell_type": "code",
   "execution_count": 4,
   "metadata": {},
   "outputs": [],
   "source": [
    "# 加入矩形(空心)\n",
    "cv2.rectangle(image0, (1,15), (100,80),(255,255,255),2)\n",
    "cv2.imshow('Image: add line', image0)\n",
    "cv2.waitKey(0)\n",
    "cv2.destroyAllWindows()"
   ]
  },
  {
   "cell_type": "code",
   "execution_count": 5,
   "metadata": {},
   "outputs": [],
   "source": [
    "# 加入矩形(實心)\n",
    "cv2.rectangle(image0, (1,90), (100,130),(255,255,255),-1)\n",
    "cv2.imshow('Image: add line', image0)\n",
    "cv2.waitKey(0)\n",
    "cv2.destroyAllWindows()"
   ]
  },
  {
   "cell_type": "code",
   "execution_count": 6,
   "metadata": {},
   "outputs": [],
   "source": [
    "# 加入圓形(實心)\n",
    "cv2.circle(image0, (200,100), 50,(255,0,0),2)\n",
    "cv2.imshow('Image: add line', image0)\n",
    "cv2.waitKey(0)\n",
    "cv2.destroyAllWindows()"
   ]
  },
  {
   "cell_type": "code",
   "execution_count": 7,
   "metadata": {},
   "outputs": [],
   "source": [
    "# 加入圓形(實心)\n",
    "cv2.circle(image0, (350,100), 50,(255,0,0),-1)\n",
    "cv2.imshow('Image: add line', image0)\n",
    "cv2.waitKey(0)\n",
    "cv2.destroyAllWindows()"
   ]
  },
  {
   "cell_type": "code",
   "execution_count": 9,
   "metadata": {},
   "outputs": [],
   "source": [
    "# 圖片中加入文字\n",
    "from PIL import ImageFont, Image, ImageDraw\n",
    "\n",
    "image2_0 = np.full((600,800,3),(200,0,220),np.uint8)\n",
    "image2_0 = Image.fromarray(image2_0)\n",
    "\n",
    "font = ImageFont.truetype('mingliu.ttc', 50)\n",
    "ImageDraw.Draw(image2_0).text((50,50), '要寫的文字', (255,0,0),font)\n",
    "image2_0 = np.array(image2_0)\n",
    "\n",
    "cv2.imshow('Image: add line', image2_0)\n",
    "cv2.waitKey(0)\n",
    "cv2.destroyAllWindows()"
   ]
  },
  {
   "cell_type": "markdown",
   "metadata": {},
   "source": [
    "## 圖片的數學運算"
   ]
  },
  {
   "cell_type": "code",
   "execution_count": 22,
   "metadata": {},
   "outputs": [],
   "source": [
    "# 原圖\n",
    "image0 = np.full((600,800,3),(127,0,127),np.uint8)\n",
    "image1 = np.full((600,800,3),(100,100,100),np.uint8)\n",
    "\n",
    "cv2.imshow('Image: image0 ', image0)\n",
    "cv2.imshow('Image: image1 ', image1)\n",
    "cv2.waitKey(0)\n",
    "cv2.destroyAllWindows()"
   ]
  },
  {
   "cell_type": "code",
   "execution_count": 7,
   "metadata": {},
   "outputs": [],
   "source": [
    "# 加法: 會變亮\n",
    "image_add = cv2.add(image0, image1)\n",
    "\n",
    "cv2.imshow('Image: image0 ', image0)\n",
    "cv2.imshow('Image: add ', image_add)\n",
    "cv2.waitKey(0)\n",
    "cv2.destroyAllWindows()"
   ]
  },
  {
   "cell_type": "code",
   "execution_count": 8,
   "metadata": {},
   "outputs": [],
   "source": [
    "# 減法: 會變暗\n",
    "image_sub = cv2.subtract(image0, image1)\n",
    "\n",
    "cv2.imshow('Image: image0 ', image0)\n",
    "cv2.imshow('Image: sub ', image_sub)\n",
    "cv2.waitKey(0)\n",
    "cv2.destroyAllWindows()"
   ]
  },
  {
   "cell_type": "code",
   "execution_count": 9,
   "metadata": {},
   "outputs": [],
   "source": [
    "# 減法(絕對值):\n",
    "image_absdiff = cv2.absdiff(image0, image1)\n",
    "\n",
    "cv2.imshow('Image: image0 ', image0)\n",
    "cv2.imshow('Image: abs diff ', image_absdiff)\n",
    "cv2.waitKey(0)\n",
    "cv2.destroyAllWindows()"
   ]
  },
  {
   "cell_type": "code",
   "execution_count": 10,
   "metadata": {},
   "outputs": [],
   "source": [
    "# 除法:\n",
    "image_divide = cv2.divide(image0, image1)\n",
    "\n",
    "cv2.imshow('Image: image0 ', image0)\n",
    "cv2.imshow('Image: divide ', image_divide)\n",
    "cv2.waitKey(0)\n",
    "cv2.destroyAllWindows()"
   ]
  },
  {
   "cell_type": "code",
   "execution_count": 23,
   "metadata": {},
   "outputs": [],
   "source": [
    "# 乘法:\n",
    "image_mul = cv2.multiply(image0, image1)\n",
    "\n",
    "cv2.imshow('Image: image0 ', image0)\n",
    "cv2.imshow('Image: divide ', image_mul)\n",
    "cv2.waitKey(0)\n",
    "cv2.destroyAllWindows()"
   ]
  },
  {
   "cell_type": "code",
   "execution_count": 26,
   "metadata": {},
   "outputs": [],
   "source": [
    "# 圖片縮放\n",
    "width  = 300\n",
    "height = int(width/image0.shape[1]*image0.shape[0])\n",
    "\n",
    "image_resize = cv2.resize(image0, (width, height))\n",
    "\n",
    "cv2.imshow('Image: image0 ', image0)\n",
    "cv2.imshow('Image: new size', image_resize)\n",
    "cv2.waitKey(0)\n",
    "cv2.destroyAllWindows()"
   ]
  },
  {
   "cell_type": "code",
   "execution_count": 27,
   "metadata": {},
   "outputs": [],
   "source": [
    "# 圖片翻轉\n",
    "width  = 300\n",
    "height = int(width/image0.shape[1]*image0.shape[0])\n",
    "\n",
    "image_flip = cv2.flip(image0, -1)\n",
    "\n",
    "cv2.imshow('Image: image0 ', image0)\n",
    "cv2.imshow('Image: new size', image_flip)\n",
    "cv2.waitKey(0)\n",
    "cv2.destroyAllWindows()"
   ]
  },
  {
   "cell_type": "code",
   "execution_count": 29,
   "metadata": {},
   "outputs": [],
   "source": [
    "# 圖片旋轉\n",
    "d = cv2.getRotationMatrix2D((300,300), 45, 1)\n",
    "image_rotation = cv2.warpAffine(image0, d, (500,500))\n",
    "\n",
    "cv2.imshow('Image: image0 ', image0)\n",
    "cv2.imshow('Image: new size', image_rotation)\n",
    "cv2.waitKey(0)\n",
    "cv2.destroyAllWindows()"
   ]
  },
  {
   "cell_type": "code",
   "execution_count": 28,
   "metadata": {},
   "outputs": [],
   "source": [
    "# 圖片裁切\n",
    "image_cut = image0[50:200,100:250]\n",
    "\n",
    "cv2.imshow('Image: image0 ', image0)\n",
    "cv2.imshow('Image: new size', image_cut)\n",
    "cv2.waitKey(0)\n",
    "cv2.destroyAllWindows()"
   ]
  },
  {
   "cell_type": "code",
   "execution_count": null,
   "metadata": {},
   "outputs": [],
   "source": []
  },
  {
   "cell_type": "code",
   "execution_count": 25,
   "metadata": {},
   "outputs": [],
   "source": [
    "image0 = np.full((600,800,3),(200,0,220),np.uint8)\n",
    "image0[200][200] = 0,0,0\n",
    "\n",
    "cv2.imshow('Image', image0)\n",
    "cv2.waitKey(0)\n",
    "cv2.destroyAllWindows()"
   ]
  }
 ],
 "metadata": {
  "kernelspec": {
   "display_name": "Python 3",
   "language": "python",
   "name": "python3"
  },
  "language_info": {
   "codemirror_mode": {
    "name": "ipython",
    "version": 3
   },
   "file_extension": ".py",
   "mimetype": "text/x-python",
   "name": "python",
   "nbconvert_exporter": "python",
   "pygments_lexer": "ipython3",
   "version": "3.8.3"
  }
 },
 "nbformat": 4,
 "nbformat_minor": 4
}
