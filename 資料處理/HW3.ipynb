{
 "cells": [
  {
   "cell_type": "code",
   "execution_count": 1,
   "metadata": {},
   "outputs": [],
   "source": [
    "import requests\n",
    "import json\n",
    "\n",
    "from bs4 import BeautifulSoup\n",
    "url = 'https://www.cwb.gov.tw/V8/C/W/TemperatureTop/County_TMax_T.html?ID=Tue%20Jul%2007%202020%2015:39:28%20GMT+0800%20(%E5%8F%B0%E5%8C%97%E6%A8%99%E6%BA%96%E6%99%82%E9%96%93)'"
   ]
  },
  {
   "cell_type": "markdown",
   "metadata": {},
   "source": [
    "source_code = requests.get(url,\n",
    "                           headers = {\n",
    "                               'User-Agent':'Mozilla/5.0 (Windows NT 10.0; Win64; x64) AppleWebKit/537.36 (KHTML, like Gecko) Chrome/83.0.4103.116 Safari/537.36',\n",
    "                               'Referer':'https://www.cwb.gov.tw/V8/C/P/Warning/W29.html',\n",
    "                               'Accept-Language': 'zh-TW,zh;q=0.9,en-US;q=0.8,en;q=0.7'\n",
    "                               })\n",
    "html_sourcecode= BeautifulSoup(source_code.text, 'html.parser')\n",
    "html_sourcecode"
   ]
  },
  {
   "cell_type": "code",
   "execution_count": 2,
   "metadata": {},
   "outputs": [
    {
     "data": {
      "text/plain": [
       "<tr><th scope=\"row\">基隆市</th><td class=\"is_show\" style=\"text-align:center;padding-right:20px\"><span class=\"tem-C is-active\">35.2</span><span class=\"tem-F is-hidden\">95</span></td><td class=\"is_show\" style=\"text-align:center;\">11:45</td><td class=\"is_show\">46694</td><td>基隆</td><td style=\"text-align:left;\">基隆市仁愛區港西街6號6樓(海港大樓)</td></tr>\n",
       "<tr><th scope=\"row\">臺北市</th><td class=\"Lv2\" style=\"text-align:center;padding-right:20px\"><span class=\"tem-C is-active\">36.4</span><span class=\"tem-F is-hidden\">98</span></td><td class=\"is_show\" style=\"text-align:center;\">13:17</td><td class=\"is_show\">A0A01</td><td>臺灣大學</td><td style=\"text-align:left;\">臺北市大安區羅斯福路四段1號</td></tr>\n",
       "<tr><th scope=\"row\">新北市</th><td class=\"Lv2\" style=\"text-align:center;padding-right:20px\"><span class=\"tem-C is-active\">36.0</span><span class=\"tem-F is-hidden\">97</span></td><td class=\"is_show\" style=\"text-align:center;\">14:00</td><td class=\"is_show\">C0AG9</td><td>中和</td><td style=\"text-align:left;\">新北市中和區錦和路350號(錦和運動公園)</td></tr>\n",
       "<tr><th scope=\"row\">桃園市</th><td class=\"is_show\" style=\"text-align:center;padding-right:20px\"><span class=\"tem-C is-active\">35.2</span><span class=\"tem-F is-hidden\">95</span></td><td class=\"is_show\" style=\"text-align:center;\">11:10</td><td class=\"is_show\">C0C49</td><td>八德</td><td style=\"text-align:left;\">桃園市八德區興仁里興豐路222號(八德國小)</td></tr>\n",
       "<tr><th scope=\"row\">新竹市</th><td class=\"is_show\" style=\"text-align:center;padding-right:20px\"><span class=\"tem-C is-active\">33.7</span><span class=\"tem-F is-hidden\">93</span></td><td class=\"is_show\" style=\"text-align:center;\">12:40</td><td class=\"is_show\">C0D57</td><td>香山</td><td style=\"text-align:left;\">新竹市香山區長興街</td></tr>\n",
       "<tr><th scope=\"row\" valign=\"top\">新竹縣</th><td class=\"is_show\" style=\"text-align:center;padding-right:20px\"><span class=\"tem-C is-active\">35.6</span><span class=\"tem-F is-hidden\">96</span></td><td class=\"is_show\" style=\"text-align:center;\">13:00<br/>13:30<br/></td><td class=\"is_show\">C0D43<br/>C0D39<br/></td><td>峨眉<br/>關西<br/></td><td style=\"text-align:left;\">新竹縣峨眉鄉峨眉村峨眉街54號(峨眉國中)<br/>新竹縣關西鎮北斗里北門口41號(關西國中)<br/></td></tr>\n",
       "<tr><th scope=\"row\">苗栗縣</th><td class=\"is_show\" style=\"text-align:center;padding-right:20px\"><span class=\"tem-C is-active\">35.3</span><span class=\"tem-F is-hidden\">96</span></td><td class=\"is_show\" style=\"text-align:center;\">12:40</td><td class=\"is_show\">C0E73</td><td>頭份</td><td style=\"text-align:left;\">苗栗縣頭份市中正路219號(頭份國小)</td></tr>\n",
       "<tr><th scope=\"row\">臺中市</th><td class=\"is_show\" style=\"text-align:center;padding-right:20px\"><span class=\"tem-C is-active\">35.2</span><span class=\"tem-F is-hidden\">95</span></td><td class=\"is_show\" style=\"text-align:center;\">13:20</td><td class=\"is_show\">C0F93</td><td>大甲</td><td style=\"text-align:left;\">臺中市大甲區開元路71號(大甲高工)</td></tr>\n",
       "<tr><th scope=\"row\">彰化縣</th><td class=\"Lv2\" style=\"text-align:center;padding-right:20px\"><span class=\"tem-C is-active\">36.0</span><span class=\"tem-F is-hidden\">97</span></td><td class=\"is_show\" style=\"text-align:center;\">13:00</td><td class=\"is_show\">C0G66</td><td>溪湖</td><td style=\"text-align:left;\">彰化縣溪湖鎮大竹里彰水路二段725號(湖南國小)</td></tr>\n",
       "<tr><th scope=\"row\">南投縣</th><td class=\"is_show\" style=\"text-align:center;padding-right:20px\"><span class=\"tem-C is-active\">35.9</span><span class=\"tem-F is-hidden\">97</span></td><td class=\"is_show\" style=\"text-align:center;\">15:00</td><td class=\"is_show\">CM016</td><td>南投服務區</td><td style=\"text-align:left;\">南投縣南投市南鄉路250巷142弄6號(南投服務區東側上方邊坡)</td></tr>\n",
       "<tr><th scope=\"row\">雲林縣</th><td class=\"Lv2\" style=\"text-align:center;padding-right:20px\"><span class=\"tem-C is-active\">36.3</span><span class=\"tem-F is-hidden\">97</span></td><td class=\"is_show\" style=\"text-align:center;\">14:18</td><td class=\"is_show\">72K22</td><td>雲林分場</td><td style=\"text-align:left;\">雲林縣斗南鎮復興路1~15號</td></tr>\n",
       "<tr><th scope=\"row\">嘉義市</th><td class=\"is_show\" style=\"text-align:center;padding-right:20px\"><span class=\"tem-C is-active\">35.5</span><span class=\"tem-F is-hidden\">96</span></td><td class=\"is_show\" style=\"text-align:center;\">12:29</td><td class=\"is_show\">G2L02</td><td>嘉義農試</td><td style=\"text-align:left;\">嘉義市東區民權路2號</td></tr>\n",
       "<tr><th scope=\"row\">嘉義縣</th><td class=\"is_show\" style=\"text-align:center;padding-right:20px\"><span class=\"tem-C is-active\">34.3</span><span class=\"tem-F is-hidden\">94</span></td><td class=\"is_show\" style=\"text-align:center;\">12:47</td><td class=\"is_show\">72M70</td><td>嘉義分場</td><td style=\"text-align:left;\">嘉義縣鹿草鄉豐稠村農改場1號</td></tr>\n",
       "<tr><th scope=\"row\">臺南市</th><td class=\"is_show\" style=\"text-align:center;padding-right:20px\"><span class=\"tem-C is-active\">35.0</span><span class=\"tem-F is-hidden\">95</span></td><td class=\"is_show\" style=\"text-align:center;\">12:39</td><td class=\"is_show\">B2N89</td><td>畜試所</td><td style=\"text-align:left;\">臺南市新化區那菝里牧場112號</td></tr>\n",
       "<tr><th scope=\"row\">高雄市</th><td class=\"is_show\" style=\"text-align:center;padding-right:20px\"><span class=\"tem-C is-active\">35.9</span><span class=\"tem-F is-hidden\">97</span></td><td class=\"is_show\" style=\"text-align:center;\">13:20</td><td class=\"is_show\">C0V26</td><td>月眉</td><td style=\"text-align:left;\">高雄市杉林區月眉里山仙路1號(杉林區月眉段2181號、月眉農場)</td></tr>\n",
       "<tr><th scope=\"row\">屏東縣</th><td class=\"is_show\" style=\"text-align:center;padding-right:20px\"><span class=\"tem-C is-active\">34.2</span><span class=\"tem-F is-hidden\">94</span></td><td class=\"is_show\" style=\"text-align:center;\">12:00</td><td class=\"is_show\">C0R47</td><td>高樹</td><td style=\"text-align:left;\">屏東縣高樹鄉興中路329號(高樹鄉公所)</td></tr>\n",
       "<tr><th scope=\"row\">宜蘭縣</th><td class=\"is_show\" style=\"text-align:center;padding-right:20px\"><span class=\"tem-C is-active\">35.4</span><span class=\"tem-F is-hidden\">96</span></td><td class=\"is_show\" style=\"text-align:center;\">12:00</td><td class=\"is_show\">C0U94</td><td>羅東</td><td style=\"text-align:left;\">宜蘭縣羅東鎮羅東運動公園南側(北成路二段停車場旁自行車道入口)</td></tr>\n",
       "<tr><th scope=\"row\">花蓮縣</th><td class=\"Lv2\" style=\"text-align:center;padding-right:20px\"><span class=\"tem-C is-active\">37.3</span><span class=\"tem-F is-hidden\">99</span></td><td class=\"is_show\" style=\"text-align:center;\">12:40</td><td class=\"is_show\">C0Z08</td><td>富源</td><td style=\"text-align:left;\">花蓮縣光復鄉大豐村9鄰265號(富源國中對面山腰)</td></tr>\n",
       "<tr><th scope=\"row\">臺東縣</th><td class=\"Lv2\" style=\"text-align:center;padding-right:20px\"><span class=\"tem-C is-active\">37.8</span><span class=\"tem-F is-hidden\">100</span></td><td class=\"is_show\" style=\"text-align:center;\">10:44</td><td class=\"is_show\">46754</td><td>大武</td><td style=\"text-align:left;\">臺東縣大武鄉大武街115號</td></tr>\n",
       "<tr><th scope=\"row\">澎湖縣</th><td class=\"is_show\" style=\"text-align:center;padding-right:20px\"><span class=\"tem-C is-active\">33.5</span><span class=\"tem-F is-hidden\">92</span></td><td class=\"is_show\" style=\"text-align:center;\">11:56</td><td class=\"is_show\">46735</td><td>澎湖</td><td style=\"text-align:left;\">澎湖縣馬公市新興路2號</td></tr>\n",
       "<tr><th scope=\"row\">金門縣</th><td class=\"is_show\" style=\"text-align:center;padding-right:20px\"><span class=\"tem-C is-active\">34.0</span><span class=\"tem-F is-hidden\">93</span></td><td class=\"is_show\" style=\"text-align:center;\">12:38</td><td class=\"is_show\">46711</td><td>金門</td><td style=\"text-align:left;\">金門縣金城鎮金水里西海路一段250號</td></tr>\n",
       "<tr><th scope=\"row\">連江縣</th><td class=\"is_show\" style=\"text-align:center;padding-right:20px\"><span class=\"tem-C is-active\">30.6</span><span class=\"tem-F is-hidden\">87</span></td><td class=\"is_show\" style=\"text-align:center;\">13:27</td><td class=\"is_show\">46799</td><td>馬祖</td><td style=\"text-align:left;\">連江縣南竿鄉四維村6鄰88號</td></tr>\n",
       "<script type=\"text/javascript\">\n",
       "var SubTitle = '今日各縣市高溫測站資料';\n",
       "var TimeFrom = '2020/07/07 00:00';\n",
       "var TimeTo = '2020/07/07 15:37';\n",
       "var UpdateTime = '2020/07/07 15:43:15';\n",
       "</script>"
      ]
     },
     "execution_count": 2,
     "metadata": {},
     "output_type": "execute_result"
    }
   ],
   "source": [
    "source_code = requests.get(url)\n",
    "html_sourcecode= BeautifulSoup(source_code.text, 'html.parser')\n",
    "html_sourcecode"
   ]
  },
  {
   "cell_type": "code",
   "execution_count": 3,
   "metadata": {},
   "outputs": [
    {
     "data": {
      "text/plain": [
       "['基隆市',\n",
       " '臺北市',\n",
       " '新北市',\n",
       " '桃園市',\n",
       " '新竹市',\n",
       " '新竹縣',\n",
       " '苗栗縣',\n",
       " '臺中市',\n",
       " '彰化縣',\n",
       " '南投縣',\n",
       " '雲林縣',\n",
       " '嘉義市',\n",
       " '嘉義縣',\n",
       " '臺南市',\n",
       " '高雄市',\n",
       " '屏東縣',\n",
       " '宜蘭縣',\n",
       " '花蓮縣',\n",
       " '臺東縣',\n",
       " '澎湖縣',\n",
       " '金門縣',\n",
       " '連江縣']"
      ]
     },
     "execution_count": 3,
     "metadata": {},
     "output_type": "execute_result"
    }
   ],
   "source": [
    "city_list = []\n",
    "city = html_sourcecode.find_all('th')\n",
    "for ele in city:\n",
    "    city_list.append(ele.text)\n",
    "city_list"
   ]
  },
  {
   "cell_type": "code",
   "execution_count": 4,
   "metadata": {},
   "outputs": [
    {
     "data": {
      "text/plain": [
       "['35.2',\n",
       " '36.4',\n",
       " '36.0',\n",
       " '35.2',\n",
       " '33.7',\n",
       " '35.6',\n",
       " '35.3',\n",
       " '35.2',\n",
       " '36.0',\n",
       " '35.9',\n",
       " '36.3',\n",
       " '35.5',\n",
       " '34.3',\n",
       " '35.0',\n",
       " '35.9',\n",
       " '34.2',\n",
       " '35.4',\n",
       " '37.3',\n",
       " '37.8',\n",
       " '33.5',\n",
       " '34.0',\n",
       " '30.6']"
      ]
     },
     "execution_count": 4,
     "metadata": {},
     "output_type": "execute_result"
    }
   ],
   "source": [
    "temperature_list = []\n",
    "temperature = html_sourcecode.find_all('span', class_='tem-C')\n",
    "for ele in temperature:\n",
    "    temperature_list.append(ele.text)\n",
    "temperature_list"
   ]
  },
  {
   "cell_type": "code",
   "execution_count": 5,
   "metadata": {},
   "outputs": [
    {
     "data": {
      "text/plain": [
       "[['基隆市', '35.2'],\n",
       " ['臺北市', '36.4'],\n",
       " ['新北市', '36.0'],\n",
       " ['桃園市', '35.2'],\n",
       " ['新竹市', '33.7'],\n",
       " ['新竹縣', '35.6'],\n",
       " ['苗栗縣', '35.3'],\n",
       " ['臺中市', '35.2'],\n",
       " ['彰化縣', '36.0'],\n",
       " ['南投縣', '35.9'],\n",
       " ['雲林縣', '36.3'],\n",
       " ['嘉義市', '35.5'],\n",
       " ['嘉義縣', '34.3'],\n",
       " ['臺南市', '35.0'],\n",
       " ['高雄市', '35.9'],\n",
       " ['屏東縣', '34.2'],\n",
       " ['宜蘭縣', '35.4'],\n",
       " ['花蓮縣', '37.3'],\n",
       " ['臺東縣', '37.8'],\n",
       " ['澎湖縣', '33.5'],\n",
       " ['金門縣', '34.0'],\n",
       " ['連江縣', '30.6']]"
      ]
     },
     "execution_count": 5,
     "metadata": {},
     "output_type": "execute_result"
    }
   ],
   "source": [
    "full_info = []\n",
    "if len(temperature_list) == len(city_list):\n",
    "    for i in range(len(temperature)):\n",
    "        temp = []\n",
    "        temp.append(city_list[i])\n",
    "        temp.append(temperature_list[i])\n",
    "        full_info.append(temp)\n",
    "else:\n",
    "    print('!error')\n",
    "full_info"
   ]
  },
  {
   "cell_type": "code",
   "execution_count": null,
   "metadata": {},
   "outputs": [],
   "source": []
  }
 ],
 "metadata": {
  "kernelspec": {
   "display_name": "Python 3",
   "language": "python",
   "name": "python3"
  },
  "language_info": {
   "codemirror_mode": {
    "name": "ipython",
    "version": 3
   },
   "file_extension": ".py",
   "mimetype": "text/x-python",
   "name": "python",
   "nbconvert_exporter": "python",
   "pygments_lexer": "ipython3",
   "version": "3.6.8"
  }
 },
 "nbformat": 4,
 "nbformat_minor": 4
}
