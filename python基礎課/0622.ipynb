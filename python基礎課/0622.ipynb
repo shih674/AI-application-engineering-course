{
 "cells": [
  {
   "cell_type": "code",
   "execution_count": 5,
   "metadata": {},
   "outputs": [
    {
     "name": "stdout",
     "output_type": "stream",
     "text": [
      "A\n",
      "B\n"
     ]
    }
   ],
   "source": [
    "import time\n",
    "\n",
    "print('A')\n",
    "time.sleep(3)\n",
    "print('B')"
   ]
  },
  {
   "cell_type": "code",
   "execution_count": 3,
   "metadata": {},
   "outputs": [
    {
     "name": "stdout",
     "output_type": "stream",
     "text": [
      "您好\n",
      "您好\n",
      "您好\n",
      "您好\n",
      "哈囉~哈囉~\n",
      "哈囉~哈囉~\n",
      "哈囉~哈囉~\n",
      "哈囉~哈囉~\n",
      "哈哈哈\n",
      "哈哈哈\n"
     ]
    }
   ],
   "source": [
    "for i in range(0,10,1):\n",
    "    if i>=0 and i<=3:\n",
    "        print('您好')\n",
    "    elif i>= 4 and i<=7:\n",
    "        print('哈囉~哈囉~')\n",
    "    else:\n",
    "        print('哈哈哈')\n",
    "    time.sleep(2)"
   ]
  },
  {
   "cell_type": "code",
   "execution_count": 4,
   "metadata": {},
   "outputs": [
    {
     "name": "stdout",
     "output_type": "stream",
     "text": [
      "1592789461.3414624\n",
      "1592789463.3416784\n"
     ]
    }
   ],
   "source": [
    "print(time.time())\n",
    "time.sleep(2)\n",
    "print(time.time())"
   ]
  },
  {
   "cell_type": "markdown",
   "metadata": {},
   "source": [
    "## 格式代號 格式說明\n",
    "* %a 星期幾的簡寫\n",
    "* %A 星期幾的全稱\n",
    "* %b 月分的簡寫\n",
    "* %B 月份的全稱\n",
    "* %c 標準的日期的時間串\n",
    "* %d 每月的第幾天\n",
    "* %H 24小時制的小時\n",
    "* %I 12小時制的小時\n",
    "* %j 每年的第幾天\n",
    "* %m 兩位數的月份\n",
    "* %M 兩位數的分鐘數\n",
    "* %p 本地的AM或PM的等價顯示\n",
    "* %S 兩位數的秒數\n",
    "* *%U 第年的第幾周，把星期日做為第一天（值從0到53）\n",
    "* %w 表示星期幾（值從0到6，星期天為0）\n",
    "* %W 每年的第幾周，把星期一做為第一天（值從0到53）\n",
    "* %x 標準的日期串\n",
    "* %X 標準的時間串\n",
    "* %y 兩位數的西元年份（值從0到99）\n",
    "* %Y 四位數的西元年份\n",
    "* %Z 時區名稱，如果不能得到時區名稱則返回空字元\n",
    "* %% 百分號"
   ]
  },
  {
   "cell_type": "code",
   "execution_count": 8,
   "metadata": {},
   "outputs": [
    {
     "name": "stdout",
     "output_type": "stream",
     "text": [
      "2020-06-22 09:36:45\n"
     ]
    }
   ],
   "source": [
    "print(time.strftime('%Y-%m-%d %H:%M:%S'))"
   ]
  },
  {
   "cell_type": "code",
   "execution_count": null,
   "metadata": {},
   "outputs": [
    {
     "name": "stdout",
     "output_type": "stream",
     "text": [
      "2020-06-22 09:53:07\n",
      "2020-06-22 09:53:08\n",
      "2020-06-22 09:53:09\n",
      "2020-06-22 09:53:10\n",
      "2020-06-22 09:53:11\n",
      "2020-06-22 09:53:12\n",
      "2020-06-22 09:53:13\n",
      "2020-06-22 09:53:14\n",
      "2020-06-22 09:53:15\n",
      "2020-06-22 09:53:16\n",
      "2020-06-22 09:53:17\n",
      "2020-06-22 09:53:18\n",
      "2020-06-22 09:53:19\n",
      "2020-06-22 09:53:20\n",
      "2020-06-22 09:53:21\n",
      "2020-06-22 09:53:22\n",
      "2020-06-22 09:53:23\n",
      "2020-06-22 09:53:24\n",
      "2020-06-22 09:53:25\n",
      "2020-06-22 09:53:26\n",
      "2020-06-22 09:53:27\n",
      "2020-06-22 09:53:28\n",
      "2020-06-22 09:53:29\n",
      "2020-06-22 09:53:31\n",
      "2020-06-22 09:53:32\n",
      "2020-06-22 09:53:33\n",
      "2020-06-22 09:53:34\n",
      "2020-06-22 09:53:35\n",
      "2020-06-22 09:53:36\n",
      "2020-06-22 09:53:37\n",
      "2020-06-22 09:53:38\n",
      "2020-06-22 09:53:39\n",
      "2020-06-22 09:53:40\n"
     ]
    }
   ],
   "source": [
    "import os\n",
    "# 進化成鬧鐘程式\n",
    "while True:\n",
    "    os.system('cls')\n",
    "    print(time.strftime('%Y-%m-%d %H:%M:%S'))\n",
    "    time.sleep(1)"
   ]
  },
  {
   "cell_type": "markdown",
   "metadata": {},
   "source": [
    "## 套件: Prettytable\n",
    "\n",
    "#### 操作變數.align[欄位名稱]=\"對齊方式\"\n",
    "* I > 靠左\n",
    "* C > 置中\n",
    "* r > 靠右"
   ]
  },
  {
   "cell_type": "code",
   "execution_count": 1,
   "metadata": {},
   "outputs": [
    {
     "name": "stdout",
     "output_type": "stream",
     "text": [
      "+----+-------+\n",
      "| Id | Title |\n",
      "+----+-------+\n",
      "| 1  |   AAA |\n",
      "| 2  |   BBB |\n",
      "| 3  |   CCC |\n",
      "+----+-------+\n"
     ]
    }
   ],
   "source": [
    "import prettytable\n",
    "t = prettytable.PrettyTable(['Id',\"Title\"], encoding = 'utf8')\n",
    "t.align['Title'] = 'r'\n",
    "t.add_row([1, 'AAA'])\n",
    "t.add_row([2, 'BBB'])\n",
    "t.add_row([3, 'CCC'])\n",
    "print(t)"
   ]
  },
  {
   "cell_type": "markdown",
   "metadata": {},
   "source": [
    "## 套件 Colorama"
   ]
  },
  {
   "cell_type": "code",
   "execution_count": 4,
   "metadata": {},
   "outputs": [
    {
     "name": "stdout",
     "output_type": "stream",
     "text": [
      "ABC\n",
      "ABC\n",
      "ABC\n"
     ]
    }
   ],
   "source": [
    "import colorama\n",
    "\n",
    "colorama.init(True)\n",
    "\n",
    "print('ABC')\n",
    "print(colorama.Fore.GREEN + colorama.Style.BRIGHT + 'ABC')\n",
    "print(colorama.Back.RED + 'ABC')"
   ]
  },
  {
   "cell_type": "code",
   "execution_count": null,
   "metadata": {},
   "outputs": [],
   "source": []
  }
 ],
 "metadata": {
  "kernelspec": {
   "display_name": "Python 3",
   "language": "python",
   "name": "python3"
  },
  "language_info": {
   "codemirror_mode": {
    "name": "ipython",
    "version": 3
   },
   "file_extension": ".py",
   "mimetype": "text/x-python",
   "name": "python",
   "nbconvert_exporter": "python",
   "pygments_lexer": "ipython3",
   "version": "3.6.8"
  }
 },
 "nbformat": 4,
 "nbformat_minor": 4
}
